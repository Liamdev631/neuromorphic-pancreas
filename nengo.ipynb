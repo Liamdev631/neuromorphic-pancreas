{
 "cells": [
  {
   "cell_type": "code",
   "execution_count": 4,
   "metadata": {},
   "outputs": [
    {
     "name": "stdout",
     "output_type": "stream",
     "text": [
      "Loaded 48430 samples\n",
      "|                     Building network (0%)                    | ETA:  --:--:--\n",
      "Build finished in 0:00:00\n",
      "|#                         Optimizing graph                           | 0:00:00\n",
      "|#             Optimizing graph: operator simplificaton               | 0:00:00\n",
      "Optimizing graph: operator simplificaton finished in 0:00:00\n",
      "|#                Optimizing graph: merging operators                 | 0:00:00\n",
      "Optimizing graph: merging operators finished in 0:00:00\n",
      "|#                Optimizing graph: ordering signals                  | 0:00:00\n",
      "Optimizing graph: ordering signals finished in 0:00:00\n",
      "|#                Optimizing graph: creating signals                  | 0:00:00\n",
      "Optimizing graph: creating signals finished in 0:00:00\n",
      "Optimization finished in 0:00:00\n",
      "|#                        Constructing graph                          | 0:00:00\n",
      "|           Constructing graph: pre-build stage (0%)           | ETA:  --:--:--\n",
      "Constructing graph: pre-build stage finished in 0:00:00\n",
      "|             Constructing graph: build stage (0%)             | ETA:  --:--:--\n",
      "|############Constructing graph: build stage (100%)############| ETA:  00:00:00\n",
      "Constructing graph: build stage finished in 0:00:00\n",
      "Construction finished in 0:00:00\n"
     ]
    },
    {
     "ename": "TypeError",
     "evalue": "'property' object is not iterable",
     "output_type": "error",
     "traceback": [
      "\u001b[0;31m---------------------------------------------------------------------------\u001b[0m",
      "\u001b[0;31mTypeError\u001b[0m                                 Traceback (most recent call last)",
      "\u001b[1;32m/home/liam/code/neuromorphic-pancreas/nengo.ipynb Cell 1'\u001b[0m in \u001b[0;36m<cell line: 26>\u001b[0;34m()\u001b[0m\n\u001b[1;32m     <a href='vscode-notebook-cell://wsl%2Bubuntu/home/liam/code/neuromorphic-pancreas/nengo.ipynb#ch0000000vscode-remote?line=23'>24</a>\u001b[0m \u001b[39mprint\u001b[39m(\u001b[39m\"\u001b[39m\u001b[39mLoaded\u001b[39m\u001b[39m\"\u001b[39m, \u001b[39mlen\u001b[39m(X), \u001b[39m\"\u001b[39m\u001b[39msamples\u001b[39m\u001b[39m\"\u001b[39m)\n\u001b[1;32m     <a href='vscode-notebook-cell://wsl%2Bubuntu/home/liam/code/neuromorphic-pancreas/nengo.ipynb#ch0000000vscode-remote?line=25'>26</a>\u001b[0m \u001b[39mwith\u001b[39;00m nengo_dl\u001b[39m.\u001b[39mSimulator(converter\u001b[39m.\u001b[39mnet, minibatch_size\u001b[39m=\u001b[39m\u001b[39m5\u001b[39m, device\u001b[39m=\u001b[39m\u001b[39m'\u001b[39m\u001b[39m/gpu:0\u001b[39m\u001b[39m'\u001b[39m) \u001b[39mas\u001b[39;00m sim:\n\u001b[0;32m---> <a href='vscode-notebook-cell://wsl%2Bubuntu/home/liam/code/neuromorphic-pancreas/nengo.ipynb#ch0000000vscode-remote?line=26'>27</a>\u001b[0m \tsim\u001b[39m.\u001b[39;49mcompile(\n\u001b[1;32m     <a href='vscode-notebook-cell://wsl%2Bubuntu/home/liam/code/neuromorphic-pancreas/nengo.ipynb#ch0000000vscode-remote?line=27'>28</a>\u001b[0m \t\toptimizer\u001b[39m=\u001b[39;49mtf\u001b[39m.\u001b[39;49moptimizers\u001b[39m.\u001b[39;49mAdam(\u001b[39m0.001\u001b[39;49m),\n\u001b[1;32m     <a href='vscode-notebook-cell://wsl%2Bubuntu/home/liam/code/neuromorphic-pancreas/nengo.ipynb#ch0000000vscode-remote?line=28'>29</a>\u001b[0m \t\tloss\u001b[39m=\u001b[39;49mtf\u001b[39m.\u001b[39;49mlosses\u001b[39m.\u001b[39;49mMeanAbsoluteError,\n\u001b[1;32m     <a href='vscode-notebook-cell://wsl%2Bubuntu/home/liam/code/neuromorphic-pancreas/nengo.ipynb#ch0000000vscode-remote?line=29'>30</a>\u001b[0m \t\tmetrics\u001b[39m=\u001b[39;49m[tf\u001b[39m.\u001b[39;49mmetrics\u001b[39m.\u001b[39;49mRootMeanSquaredError]\n\u001b[1;32m     <a href='vscode-notebook-cell://wsl%2Bubuntu/home/liam/code/neuromorphic-pancreas/nengo.ipynb#ch0000000vscode-remote?line=30'>31</a>\u001b[0m \t)\n\u001b[1;32m     <a href='vscode-notebook-cell://wsl%2Bubuntu/home/liam/code/neuromorphic-pancreas/nengo.ipynb#ch0000000vscode-remote?line=31'>32</a>\u001b[0m \tsim\u001b[39m.\u001b[39mfit(\n\u001b[1;32m     <a href='vscode-notebook-cell://wsl%2Bubuntu/home/liam/code/neuromorphic-pancreas/nengo.ipynb#ch0000000vscode-remote?line=32'>33</a>\u001b[0m \t\t{converter\u001b[39m.\u001b[39minputs[inp]: X},\n\u001b[1;32m     <a href='vscode-notebook-cell://wsl%2Bubuntu/home/liam/code/neuromorphic-pancreas/nengo.ipynb#ch0000000vscode-remote?line=33'>34</a>\u001b[0m \t\t{converter\u001b[39m.\u001b[39moutputs[dec]: X},\n\u001b[0;32m   (...)\u001b[0m\n\u001b[1;32m     <a href='vscode-notebook-cell://wsl%2Bubuntu/home/liam/code/neuromorphic-pancreas/nengo.ipynb#ch0000000vscode-remote?line=38'>39</a>\u001b[0m \t\tepochs\u001b[39m=\u001b[39m\u001b[39m2\u001b[39m, batch_size\u001b[39m=\u001b[39m\u001b[39m32\u001b[39m\n\u001b[1;32m     <a href='vscode-notebook-cell://wsl%2Bubuntu/home/liam/code/neuromorphic-pancreas/nengo.ipynb#ch0000000vscode-remote?line=39'>40</a>\u001b[0m \t)\n\u001b[1;32m     <a href='vscode-notebook-cell://wsl%2Bubuntu/home/liam/code/neuromorphic-pancreas/nengo.ipynb#ch0000000vscode-remote?line=41'>42</a>\u001b[0m \tsim\u001b[39m.\u001b[39msave_params(\u001b[39m\"\u001b[39m\u001b[39m./keras_to_snn_params\u001b[39m\u001b[39m\"\u001b[39m)\n",
      "File \u001b[0;32m~/anaconda3/envs/tf/lib/python3.9/site-packages/nengo/utils/magic.py:179\u001b[0m, in \u001b[0;36mBoundFunctionWrapper.__call__\u001b[0;34m(self, *args, **kwargs)\u001b[0m\n\u001b[1;32m    <a href='file:///home/liam/anaconda3/envs/tf/lib/python3.9/site-packages/nengo/utils/magic.py?line=176'>177</a>\u001b[0m         \u001b[39mreturn\u001b[39;00m \u001b[39mself\u001b[39m\u001b[39m.\u001b[39mwrapper(wrapped, instance, args, kwargs)\n\u001b[1;32m    <a href='file:///home/liam/anaconda3/envs/tf/lib/python3.9/site-packages/nengo/utils/magic.py?line=177'>178</a>\u001b[0m     \u001b[39melse\u001b[39;00m:\n\u001b[0;32m--> <a href='file:///home/liam/anaconda3/envs/tf/lib/python3.9/site-packages/nengo/utils/magic.py?line=178'>179</a>\u001b[0m         \u001b[39mreturn\u001b[39;00m \u001b[39mself\u001b[39;49m\u001b[39m.\u001b[39;49mwrapper(\u001b[39mself\u001b[39;49m\u001b[39m.\u001b[39;49m__wrapped__, \u001b[39mself\u001b[39;49m\u001b[39m.\u001b[39;49minstance, args, kwargs)\n\u001b[1;32m    <a href='file:///home/liam/anaconda3/envs/tf/lib/python3.9/site-packages/nengo/utils/magic.py?line=179'>180</a>\u001b[0m \u001b[39melse\u001b[39;00m:\n\u001b[1;32m    <a href='file:///home/liam/anaconda3/envs/tf/lib/python3.9/site-packages/nengo/utils/magic.py?line=180'>181</a>\u001b[0m     instance \u001b[39m=\u001b[39m \u001b[39mgetattr\u001b[39m(\u001b[39mself\u001b[39m\u001b[39m.\u001b[39m__wrapped__, \u001b[39m\"\u001b[39m\u001b[39m__self__\u001b[39m\u001b[39m\"\u001b[39m, \u001b[39mNone\u001b[39;00m)\n",
      "File \u001b[0;32m~/anaconda3/envs/tf/lib/python3.9/site-packages/nengo_dl/simulator.py:67\u001b[0m, in \u001b[0;36mrequire_open\u001b[0;34m(wrapped, instance, args, kwargs)\u001b[0m\n\u001b[1;32m     <a href='file:///home/liam/anaconda3/envs/tf/lib/python3.9/site-packages/nengo_dl/simulator.py?line=61'>62</a>\u001b[0m \u001b[39mif\u001b[39;00m instance\u001b[39m.\u001b[39mclosed:\n\u001b[1;32m     <a href='file:///home/liam/anaconda3/envs/tf/lib/python3.9/site-packages/nengo_dl/simulator.py?line=62'>63</a>\u001b[0m     \u001b[39mraise\u001b[39;00m SimulatorClosed(\n\u001b[1;32m     <a href='file:///home/liam/anaconda3/envs/tf/lib/python3.9/site-packages/nengo_dl/simulator.py?line=63'>64</a>\u001b[0m         \u001b[39mf\u001b[39m\u001b[39m\"\u001b[39m\u001b[39mCannot call \u001b[39m\u001b[39m{\u001b[39;00mwrapped\u001b[39m.\u001b[39m\u001b[39m__name__\u001b[39m\u001b[39m}\u001b[39;00m\u001b[39m after simulator is closed\u001b[39m\u001b[39m\"\u001b[39m\n\u001b[1;32m     <a href='file:///home/liam/anaconda3/envs/tf/lib/python3.9/site-packages/nengo_dl/simulator.py?line=64'>65</a>\u001b[0m     )\n\u001b[0;32m---> <a href='file:///home/liam/anaconda3/envs/tf/lib/python3.9/site-packages/nengo_dl/simulator.py?line=66'>67</a>\u001b[0m \u001b[39mreturn\u001b[39;00m wrapped(\u001b[39m*\u001b[39;49margs, \u001b[39m*\u001b[39;49m\u001b[39m*\u001b[39;49mkwargs)\n",
      "File \u001b[0;32m~/anaconda3/envs/tf/lib/python3.9/site-packages/nengo/utils/magic.py:179\u001b[0m, in \u001b[0;36mBoundFunctionWrapper.__call__\u001b[0;34m(self, *args, **kwargs)\u001b[0m\n\u001b[1;32m    <a href='file:///home/liam/anaconda3/envs/tf/lib/python3.9/site-packages/nengo/utils/magic.py?line=176'>177</a>\u001b[0m         \u001b[39mreturn\u001b[39;00m \u001b[39mself\u001b[39m\u001b[39m.\u001b[39mwrapper(wrapped, instance, args, kwargs)\n\u001b[1;32m    <a href='file:///home/liam/anaconda3/envs/tf/lib/python3.9/site-packages/nengo/utils/magic.py?line=177'>178</a>\u001b[0m     \u001b[39melse\u001b[39;00m:\n\u001b[0;32m--> <a href='file:///home/liam/anaconda3/envs/tf/lib/python3.9/site-packages/nengo/utils/magic.py?line=178'>179</a>\u001b[0m         \u001b[39mreturn\u001b[39;00m \u001b[39mself\u001b[39;49m\u001b[39m.\u001b[39;49mwrapper(\u001b[39mself\u001b[39;49m\u001b[39m.\u001b[39;49m__wrapped__, \u001b[39mself\u001b[39;49m\u001b[39m.\u001b[39;49minstance, args, kwargs)\n\u001b[1;32m    <a href='file:///home/liam/anaconda3/envs/tf/lib/python3.9/site-packages/nengo/utils/magic.py?line=179'>180</a>\u001b[0m \u001b[39melse\u001b[39;00m:\n\u001b[1;32m    <a href='file:///home/liam/anaconda3/envs/tf/lib/python3.9/site-packages/nengo/utils/magic.py?line=180'>181</a>\u001b[0m     instance \u001b[39m=\u001b[39m \u001b[39mgetattr\u001b[39m(\u001b[39mself\u001b[39m\u001b[39m.\u001b[39m__wrapped__, \u001b[39m\"\u001b[39m\u001b[39m__self__\u001b[39m\u001b[39m\"\u001b[39m, \u001b[39mNone\u001b[39;00m)\n",
      "File \u001b[0;32m~/anaconda3/envs/tf/lib/python3.9/site-packages/nengo_dl/simulator.py:50\u001b[0m, in \u001b[0;36mwith_self\u001b[0;34m(wrapped, instance, args, kwargs)\u001b[0m\n\u001b[1;32m     <a href='file:///home/liam/anaconda3/envs/tf/lib/python3.9/site-packages/nengo_dl/simulator.py?line=47'>48</a>\u001b[0m \u001b[39mtry\u001b[39;00m:\n\u001b[1;32m     <a href='file:///home/liam/anaconda3/envs/tf/lib/python3.9/site-packages/nengo_dl/simulator.py?line=48'>49</a>\u001b[0m     \u001b[39mwith\u001b[39;00m tf\u001b[39m.\u001b[39mdevice(instance\u001b[39m.\u001b[39mtensor_graph\u001b[39m.\u001b[39mdevice):\n\u001b[0;32m---> <a href='file:///home/liam/anaconda3/envs/tf/lib/python3.9/site-packages/nengo_dl/simulator.py?line=49'>50</a>\u001b[0m         output \u001b[39m=\u001b[39m wrapped(\u001b[39m*\u001b[39;49margs, \u001b[39m*\u001b[39;49m\u001b[39m*\u001b[39;49mkwargs)\n\u001b[1;32m     <a href='file:///home/liam/anaconda3/envs/tf/lib/python3.9/site-packages/nengo_dl/simulator.py?line=50'>51</a>\u001b[0m \u001b[39mfinally\u001b[39;00m:\n\u001b[1;32m     <a href='file:///home/liam/anaconda3/envs/tf/lib/python3.9/site-packages/nengo_dl/simulator.py?line=51'>52</a>\u001b[0m     tf\u001b[39m.\u001b[39mkeras\u001b[39m.\u001b[39mbackend\u001b[39m.\u001b[39mset_floatx(keras_dtype)\n",
      "File \u001b[0;32m~/anaconda3/envs/tf/lib/python3.9/site-packages/nengo_dl/simulator.py:806\u001b[0m, in \u001b[0;36mSimulator.compile\u001b[0;34m(self, loss, metrics, loss_weights, *args, **kwargs)\u001b[0m\n\u001b[1;32m    <a href='file:///home/liam/anaconda3/envs/tf/lib/python3.9/site-packages/nengo_dl/simulator.py?line=800'>801</a>\u001b[0m metrics \u001b[39m=\u001b[39m \u001b[39mself\u001b[39m\u001b[39m.\u001b[39m_standardize_data(\n\u001b[1;32m    <a href='file:///home/liam/anaconda3/envs/tf/lib/python3.9/site-packages/nengo_dl/simulator.py?line=801'>802</a>\u001b[0m     metrics, \u001b[39mself\u001b[39m\u001b[39m.\u001b[39mmodel\u001b[39m.\u001b[39mprobes, broadcast_unary\u001b[39m=\u001b[39m\u001b[39mTrue\u001b[39;00m\n\u001b[1;32m    <a href='file:///home/liam/anaconda3/envs/tf/lib/python3.9/site-packages/nengo_dl/simulator.py?line=802'>803</a>\u001b[0m )\n\u001b[1;32m    <a href='file:///home/liam/anaconda3/envs/tf/lib/python3.9/site-packages/nengo_dl/simulator.py?line=803'>804</a>\u001b[0m loss_weights \u001b[39m=\u001b[39m \u001b[39mself\u001b[39m\u001b[39m.\u001b[39m_standardize_data(loss_weights, \u001b[39mself\u001b[39m\u001b[39m.\u001b[39mmodel\u001b[39m.\u001b[39mprobes)\n\u001b[0;32m--> <a href='file:///home/liam/anaconda3/envs/tf/lib/python3.9/site-packages/nengo_dl/simulator.py?line=805'>806</a>\u001b[0m \u001b[39mself\u001b[39;49m\u001b[39m.\u001b[39;49mkeras_model\u001b[39m.\u001b[39;49mcompile(\n\u001b[1;32m    <a href='file:///home/liam/anaconda3/envs/tf/lib/python3.9/site-packages/nengo_dl/simulator.py?line=806'>807</a>\u001b[0m     \u001b[39m*\u001b[39;49margs, loss\u001b[39m=\u001b[39;49mloss, metrics\u001b[39m=\u001b[39;49mmetrics, loss_weights\u001b[39m=\u001b[39;49mloss_weights, \u001b[39m*\u001b[39;49m\u001b[39m*\u001b[39;49mkwargs\n\u001b[1;32m    <a href='file:///home/liam/anaconda3/envs/tf/lib/python3.9/site-packages/nengo_dl/simulator.py?line=807'>808</a>\u001b[0m )\n",
      "File \u001b[0;32m~/anaconda3/envs/tf/lib/python3.9/site-packages/keras/utils/traceback_utils.py:67\u001b[0m, in \u001b[0;36mfilter_traceback.<locals>.error_handler\u001b[0;34m(*args, **kwargs)\u001b[0m\n\u001b[1;32m     <a href='file:///home/liam/anaconda3/envs/tf/lib/python3.9/site-packages/keras/utils/traceback_utils.py?line=64'>65</a>\u001b[0m \u001b[39mexcept\u001b[39;00m \u001b[39mException\u001b[39;00m \u001b[39mas\u001b[39;00m e:  \u001b[39m# pylint: disable=broad-except\u001b[39;00m\n\u001b[1;32m     <a href='file:///home/liam/anaconda3/envs/tf/lib/python3.9/site-packages/keras/utils/traceback_utils.py?line=65'>66</a>\u001b[0m   filtered_tb \u001b[39m=\u001b[39m _process_traceback_frames(e\u001b[39m.\u001b[39m__traceback__)\n\u001b[0;32m---> <a href='file:///home/liam/anaconda3/envs/tf/lib/python3.9/site-packages/keras/utils/traceback_utils.py?line=66'>67</a>\u001b[0m   \u001b[39mraise\u001b[39;00m e\u001b[39m.\u001b[39mwith_traceback(filtered_tb) \u001b[39mfrom\u001b[39;00m \u001b[39mNone\u001b[39m\n\u001b[1;32m     <a href='file:///home/liam/anaconda3/envs/tf/lib/python3.9/site-packages/keras/utils/traceback_utils.py?line=67'>68</a>\u001b[0m \u001b[39mfinally\u001b[39;00m:\n\u001b[1;32m     <a href='file:///home/liam/anaconda3/envs/tf/lib/python3.9/site-packages/keras/utils/traceback_utils.py?line=68'>69</a>\u001b[0m   \u001b[39mdel\u001b[39;00m filtered_tb\n",
      "File \u001b[0;32m~/anaconda3/envs/tf/lib/python3.9/site-packages/keras/engine/training.py:3101\u001b[0m, in \u001b[0;36mModel._validate_compile\u001b[0;34m(self, optimizer, metrics, **kwargs)\u001b[0m\n\u001b[1;32m   <a href='file:///home/liam/anaconda3/envs/tf/lib/python3.9/site-packages/keras/engine/training.py?line=3098'>3099</a>\u001b[0m strategy \u001b[39m=\u001b[39m \u001b[39mself\u001b[39m\u001b[39m.\u001b[39mdistribute_strategy\n\u001b[1;32m   <a href='file:///home/liam/anaconda3/envs/tf/lib/python3.9/site-packages/keras/engine/training.py?line=3099'>3100</a>\u001b[0m \u001b[39mfor\u001b[39;00m metric \u001b[39min\u001b[39;00m tf\u001b[39m.\u001b[39mnest\u001b[39m.\u001b[39mflatten(metrics):\n\u001b[0;32m-> <a href='file:///home/liam/anaconda3/envs/tf/lib/python3.9/site-packages/keras/engine/training.py?line=3100'>3101</a>\u001b[0m   \u001b[39mfor\u001b[39;00m v \u001b[39min\u001b[39;00m \u001b[39mgetattr\u001b[39m(metric, \u001b[39m'\u001b[39m\u001b[39mvariables\u001b[39m\u001b[39m'\u001b[39m, []):\n\u001b[1;32m   <a href='file:///home/liam/anaconda3/envs/tf/lib/python3.9/site-packages/keras/engine/training.py?line=3101'>3102</a>\u001b[0m     \u001b[39mif\u001b[39;00m \u001b[39mnot\u001b[39;00m strategy\u001b[39m.\u001b[39mextended\u001b[39m.\u001b[39mvariable_created_in_scope(v):\n\u001b[1;32m   <a href='file:///home/liam/anaconda3/envs/tf/lib/python3.9/site-packages/keras/engine/training.py?line=3102'>3103</a>\u001b[0m       \u001b[39mraise\u001b[39;00m \u001b[39mValueError\u001b[39;00m(\n\u001b[1;32m   <a href='file:///home/liam/anaconda3/envs/tf/lib/python3.9/site-packages/keras/engine/training.py?line=3103'>3104</a>\u001b[0m           \u001b[39mf\u001b[39m\u001b[39m'\u001b[39m\u001b[39mMetric (\u001b[39m\u001b[39m{\u001b[39;00mmetric\u001b[39m}\u001b[39;00m\u001b[39m) passed to `model.compile` was created inside \u001b[39m\u001b[39m'\u001b[39m\n\u001b[1;32m   <a href='file:///home/liam/anaconda3/envs/tf/lib/python3.9/site-packages/keras/engine/training.py?line=3104'>3105</a>\u001b[0m           \u001b[39m'\u001b[39m\u001b[39ma different distribution strategy scope than the model. All \u001b[39m\u001b[39m'\u001b[39m\n\u001b[0;32m   (...)\u001b[0m\n\u001b[1;32m   <a href='file:///home/liam/anaconda3/envs/tf/lib/python3.9/site-packages/keras/engine/training.py?line=3109'>3110</a>\u001b[0m           \u001b[39m'\u001b[39m\u001b[39mstrategy scope.\u001b[39m\u001b[39m'\u001b[39m\n\u001b[1;32m   <a href='file:///home/liam/anaconda3/envs/tf/lib/python3.9/site-packages/keras/engine/training.py?line=3110'>3111</a>\u001b[0m       )\n",
      "\u001b[0;31mTypeError\u001b[0m: 'property' object is not iterable"
     ]
    }
   ],
   "source": [
    "import nengo\n",
    "import nengo_dl\n",
    "import tensorflow as tf\n",
    "from models import *\n",
    "from datasets import *\n",
    "\n",
    "inp = tf.keras.Input(shape=(16,), name='glucose')\n",
    "lam = tf.keras.layers.Lambda(inputMask)(inp)\n",
    "enc = tf.keras.layers.Dense(3, activation='sigmoid', name='encoder')(lam)\n",
    "dec = tf.keras.layers.Dense(16, activation='sigmoid', name='decoder')(enc)\n",
    "autoencoder = tf.keras.Model(inputs=inp, outputs=dec)\n",
    "\n",
    "converter = nengo_dl.Converter(autoencoder)\n",
    "\n",
    "with nengo.Network() as net:\n",
    "\tnengo_dl.configure_settings(stateful=False)\n",
    "\n",
    "\ta = nengo.Node(output=[1])\n",
    "\tb = nengo.Ensemble(n_neurons=100, dimensions=1)\n",
    "\tnengo.Connection(a, b)\n",
    "\tp = nengo.Probe(b)\n",
    "\n",
    "X = load_glucose_data()\n",
    "print(\"Loaded\", len(X), \"samples\")\n",
    "\n",
    "with nengo_dl.Simulator(converter.net, minibatch_size=5, device='/gpu:0') as sim:\n",
    "\tsim.compile(\n",
    "\t\toptimizer=tf.optimizers.Adam(0.001),\n",
    "\t\tloss=tf.losses.MeanAbsoluteError,\n",
    "\t\tmetrics=[tf.metrics.RootMeanSquaredError]\n",
    "\t)\n",
    "\tsim.fit(\n",
    "\t\t{converter.inputs[inp]: X},\n",
    "\t\t{converter.outputs[dec]: X},\n",
    "\t\t# validation_data=(\n",
    "\t\t#     {converter.inputs[inp]: test_images},\n",
    "\t\t#     {converter.outputs[dense]: test_labels},\n",
    "\t\t# ),\n",
    "\t\tepochs=2, batch_size=32\n",
    "\t)\n",
    "\n",
    "\tsim.save_params(\"./keras_to_snn_params\")\n",
    "\n"
   ]
  }
 ],
 "metadata": {
  "interpreter": {
   "hash": "b550d5564ad62bf2b1d2e83d30d244caeab26d9eba4c99b7fd6f4e873500b536"
  },
  "kernelspec": {
   "display_name": "Python 3.9.12 ('tf')",
   "language": "python",
   "name": "python3"
  },
  "language_info": {
   "codemirror_mode": {
    "name": "ipython",
    "version": 3
   },
   "file_extension": ".py",
   "mimetype": "text/x-python",
   "name": "python",
   "nbconvert_exporter": "python",
   "pygments_lexer": "ipython3",
   "version": "3.9.12"
  },
  "orig_nbformat": 4
 },
 "nbformat": 4,
 "nbformat_minor": 2
}
