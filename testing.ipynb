{
 "cells": [
  {
   "cell_type": "code",
   "execution_count": 1,
   "metadata": {},
   "outputs": [
    {
     "name": "stdout",
     "output_type": "stream",
     "text": [
      "Looking in indexes: https://gitlab.com/api/v4/projects/27423070/packages/pypi/simple\n",
      "Collecting samna==0.36.4.0\n",
      "  Downloading https://gitlab.com/api/v4/projects/27423070/packages/pypi/files/38602145d2f07794239865e2ea902cde698b2809b04829cc9af99bf4597e0a39/samna-0.36.4.0-cp310-cp310-manylinux_2_17_x86_64.manylinux2014_x86_64.whl (140.7 MB)\n",
      "\u001b[2K     \u001b[90m━━━━━━━━━━━━━━━━━━━━━━━━━━━━━━━━━━━━━━━\u001b[0m \u001b[32m140.7/140.7 MB\u001b[0m \u001b[31m3.1 MB/s\u001b[0m eta \u001b[36m0:00:00\u001b[0m00:01\u001b[0m00:01\u001b[0m\n",
      "\u001b[?25hInstalling collected packages: samna\n",
      "  Attempting uninstall: samna\n",
      "    Found existing installation: samna 0.36.4.0\n",
      "    Uninstalling samna-0.36.4.0:\n",
      "      Successfully uninstalled samna-0.36.4.0\n",
      "Successfully installed samna-0.36.4.0\n"
     ]
    },
    {
     "ename": "ModuleNotFoundError",
     "evalue": "No module named 'bitstruct'",
     "output_type": "error",
     "traceback": [
      "\u001b[0;31m---------------------------------------------------------------------------\u001b[0m",
      "\u001b[0;31mModuleNotFoundError\u001b[0m                       Traceback (most recent call last)",
      "\u001b[1;32m/home/liambury/neuromorphic-pancreas/testing.ipynb Cell 1\u001b[0m line \u001b[0;36m4\n\u001b[1;32m      <a href='vscode-notebook-cell://wsl%2Bubuntu/home/liambury/neuromorphic-pancreas/testing.ipynb#W0sdnNjb2RlLXJlbW90ZQ%3D%3D?line=1'>2</a>\u001b[0m \u001b[39mfrom\u001b[39;00m \u001b[39mrockpool\u001b[39;00m\u001b[39m.\u001b[39;00m\u001b[39mnn\u001b[39;00m\u001b[39m.\u001b[39;00m\u001b[39mmodules\u001b[39;00m \u001b[39mimport\u001b[39;00m LIFTorch, LinearTorch\n\u001b[1;32m      <a href='vscode-notebook-cell://wsl%2Bubuntu/home/liambury/neuromorphic-pancreas/testing.ipynb#W0sdnNjb2RlLXJlbW90ZQ%3D%3D?line=2'>3</a>\u001b[0m \u001b[39mfrom\u001b[39;00m \u001b[39mrockpool\u001b[39;00m\u001b[39m.\u001b[39;00m\u001b[39mnn\u001b[39;00m\u001b[39m.\u001b[39;00m\u001b[39mcombinators\u001b[39;00m \u001b[39mimport\u001b[39;00m Sequential\n\u001b[0;32m----> <a href='vscode-notebook-cell://wsl%2Bubuntu/home/liambury/neuromorphic-pancreas/testing.ipynb#W0sdnNjb2RlLXJlbW90ZQ%3D%3D?line=3'>4</a>\u001b[0m \u001b[39mimport\u001b[39;00m \u001b[39mrockpool\u001b[39;00m\u001b[39m.\u001b[39;00m\u001b[39mdevices\u001b[39;00m\u001b[39m.\u001b[39;00m\u001b[39mxylo\u001b[39;00m\u001b[39m.\u001b[39;00m\u001b[39msyns61201\u001b[39;00m \u001b[39mas\u001b[39;00m \u001b[39mx\u001b[39;00m\n\u001b[1;32m      <a href='vscode-notebook-cell://wsl%2Bubuntu/home/liambury/neuromorphic-pancreas/testing.ipynb#W0sdnNjb2RlLXJlbW90ZQ%3D%3D?line=4'>5</a>\u001b[0m \u001b[39mfrom\u001b[39;00m \u001b[39mrockpool\u001b[39;00m\u001b[39m.\u001b[39;00m\u001b[39mtransform\u001b[39;00m \u001b[39mimport\u001b[39;00m quantize_methods \u001b[39mas\u001b[39;00m q\n\u001b[1;32m      <a href='vscode-notebook-cell://wsl%2Bubuntu/home/liambury/neuromorphic-pancreas/testing.ipynb#W0sdnNjb2RlLXJlbW90ZQ%3D%3D?line=5'>6</a>\u001b[0m \u001b[39mimport\u001b[39;00m \u001b[39msnntorch\u001b[39;00m\u001b[39m.\u001b[39;00m\u001b[39mspikegen\u001b[39;00m \u001b[39mas\u001b[39;00m \u001b[39mspikegen\u001b[39;00m\n",
      "File \u001b[0;32m~/anaconda3/envs/diabetes/lib/python3.10/site-packages/rockpool/devices/xylo/__init__.py:39\u001b[0m\n\u001b[1;32m      1\u001b[0m \u001b[39m\"\"\"\u001b[39;00m\n\u001b[1;32m      2\u001b[0m \u001b[39mXylo-family device simulations, deployment and HDK support\u001b[39;00m\n\u001b[1;32m      3\u001b[0m \n\u001b[0;32m   (...)\u001b[0m\n\u001b[1;32m     31\u001b[0m \u001b[39m     - Xylo IMU. One synapse per neuron. 496 hidden neurons, 16 output neurons. Includes direct IMU sensor interface, and IMU IF simulation.\u001b[39;00m\n\u001b[1;32m     32\u001b[0m \u001b[39m\"\"\"\u001b[39;00m\n\u001b[1;32m     34\u001b[0m \u001b[39mfrom\u001b[39;00m \u001b[39mrockpool\u001b[39;00m\u001b[39m.\u001b[39;00m\u001b[39mutilities\u001b[39;00m\u001b[39m.\u001b[39;00m\u001b[39mbackend_management\u001b[39;00m \u001b[39mimport\u001b[39;00m (\n\u001b[1;32m     35\u001b[0m     backend_available,\n\u001b[1;32m     36\u001b[0m     missing_backend_shim,\n\u001b[1;32m     37\u001b[0m )\n\u001b[0;32m---> 39\u001b[0m \u001b[39mimport\u001b[39;00m \u001b[39mrockpool\u001b[39;00m\u001b[39m.\u001b[39;00m\u001b[39mdevices\u001b[39;00m\u001b[39m.\u001b[39;00m\u001b[39mxylo\u001b[39;00m\u001b[39m.\u001b[39;00m\u001b[39msyns61300\u001b[39;00m \u001b[39mas\u001b[39;00m \u001b[39mpollen\u001b[39;00m\n\u001b[1;32m     40\u001b[0m \u001b[39mimport\u001b[39;00m \u001b[39mrockpool\u001b[39;00m\u001b[39m.\u001b[39;00m\u001b[39mdevices\u001b[39;00m\u001b[39m.\u001b[39;00m\u001b[39mxylo\u001b[39;00m\u001b[39m.\u001b[39;00m\u001b[39msyns65300\u001b[39;00m \u001b[39mas\u001b[39;00m \u001b[39mvA1\u001b[39;00m\n\u001b[1;32m     41\u001b[0m \u001b[39mimport\u001b[39;00m \u001b[39mrockpool\u001b[39;00m\u001b[39m.\u001b[39;00m\u001b[39mdevices\u001b[39;00m\u001b[39m.\u001b[39;00m\u001b[39mxylo\u001b[39;00m\u001b[39m.\u001b[39;00m\u001b[39msyns61201\u001b[39;00m \u001b[39mas\u001b[39;00m \u001b[39mvA2\u001b[39;00m\n",
      "File \u001b[0;32m~/anaconda3/envs/diabetes/lib/python3.10/site-packages/rockpool/devices/xylo/syns61300/__init__.py:37\u001b[0m\n\u001b[1;32m     34\u001b[0m         \u001b[39mraise\u001b[39;00m\n\u001b[1;32m     36\u001b[0m \u001b[39mtry\u001b[39;00m:\n\u001b[0;32m---> 37\u001b[0m     \u001b[39mfrom\u001b[39;00m \u001b[39m.\u001b[39;00m\u001b[39mxylo_samna\u001b[39;00m \u001b[39mimport\u001b[39;00m \u001b[39m*\u001b[39m\n\u001b[1;32m     38\u001b[0m     \u001b[39mfrom\u001b[39;00m \u001b[39m.\u001b[39;00m\u001b[39mxylo_devkit_utils\u001b[39;00m \u001b[39mimport\u001b[39;00m \u001b[39m*\u001b[39m\n\u001b[1;32m     39\u001b[0m \u001b[39mexcept\u001b[39;00m:\n",
      "File \u001b[0;32m~/anaconda3/envs/diabetes/lib/python3.10/site-packages/rockpool/devices/xylo/syns61300/xylo_samna.py:25\u001b[0m\n\u001b[1;32m     22\u001b[0m \u001b[39mfrom\u001b[39;00m \u001b[39mrockpool\u001b[39;00m\u001b[39m.\u001b[39;00m\u001b[39mparameters\u001b[39;00m \u001b[39mimport\u001b[39;00m SimulationParameter\n\u001b[1;32m     23\u001b[0m \u001b[39mfrom\u001b[39;00m \u001b[39mrockpool\u001b[39;00m \u001b[39mimport\u001b[39;00m TSContinuous, TSEvent\n\u001b[0;32m---> 25\u001b[0m \u001b[39mfrom\u001b[39;00m \u001b[39m.\u001b[39;00m \u001b[39mimport\u001b[39;00m xylo_devkit_utils \u001b[39mas\u001b[39;00m hdkutils\n\u001b[1;32m     26\u001b[0m \u001b[39mfrom\u001b[39;00m \u001b[39m.\u001b[39;00m\u001b[39mxylo_devkit_utils\u001b[39;00m \u001b[39mimport\u001b[39;00m XyloHDK\n\u001b[1;32m     28\u001b[0m \u001b[39m# - Numpy\u001b[39;00m\n",
      "File \u001b[0;32m~/anaconda3/envs/diabetes/lib/python3.10/site-packages/rockpool/devices/xylo/syns61300/xylo_devkit_utils.py:147\u001b[0m\n\u001b[1;32m    143\u001b[0m     OWTRAM_state: np\u001b[39m.\u001b[39mndarray\n\u001b[1;32m    144\u001b[0m \u001b[39m    \u001b[39m\u001b[39m\"\"\" np.ndarray: Contents of OWTRAM \"\"\"\u001b[39;00m\n\u001b[0;32m--> 147\u001b[0m \u001b[39mfrom\u001b[39;00m \u001b[39m.\u001b[39;00m\u001b[39m.\u001b[39;00m\u001b[39msyns61201\u001b[39;00m\u001b[39m.\u001b[39;00m\u001b[39mxa2_devkit_utils\u001b[39;00m \u001b[39mimport\u001b[39;00m find_xylo_a2_boards\n\u001b[1;32m    150\u001b[0m \u001b[39mdef\u001b[39;00m \u001b[39mfind_xylo_boards\u001b[39m() \u001b[39m-\u001b[39m\u001b[39m>\u001b[39m List[XyloHDK]:\n\u001b[1;32m    151\u001b[0m \u001b[39m    \u001b[39m\u001b[39m\"\"\"\u001b[39;00m\n\u001b[1;32m    152\u001b[0m \u001b[39m    Search for and return a list of Xylo HDK\u001b[39;00m\n\u001b[1;32m    153\u001b[0m \n\u001b[0;32m   (...)\u001b[0m\n\u001b[1;32m    157\u001b[0m \u001b[39m        List[XyloHDK]: A (possibly empty) list of Xylo HDK hdks.\u001b[39;00m\n\u001b[1;32m    158\u001b[0m \u001b[39m    \"\"\"\u001b[39;00m\n",
      "File \u001b[0;32m~/anaconda3/envs/diabetes/lib/python3.10/site-packages/rockpool/devices/xylo/syns61201/__init__.py:41\u001b[0m\n\u001b[1;32m     38\u001b[0m         \u001b[39mraise\u001b[39;00m\n\u001b[1;32m     40\u001b[0m \u001b[39mtry\u001b[39;00m:\n\u001b[0;32m---> 41\u001b[0m     \u001b[39mfrom\u001b[39;00m \u001b[39m.\u001b[39;00m\u001b[39mxylo_samna\u001b[39;00m \u001b[39mimport\u001b[39;00m \u001b[39m*\u001b[39m\n\u001b[1;32m     42\u001b[0m     \u001b[39mfrom\u001b[39;00m \u001b[39m.\u001b[39;00m\u001b[39mxa2_devkit_utils\u001b[39;00m \u001b[39mimport\u001b[39;00m \u001b[39m*\u001b[39m\n\u001b[1;32m     43\u001b[0m     \u001b[39mfrom\u001b[39;00m \u001b[39m.\u001b[39;00m\u001b[39mxylo_monitor\u001b[39;00m \u001b[39mimport\u001b[39;00m \u001b[39m*\u001b[39m\n",
      "File \u001b[0;32m~/anaconda3/envs/diabetes/lib/python3.10/site-packages/rockpool/devices/xylo/syns61201/xylo_samna.py:25\u001b[0m\n\u001b[1;32m     22\u001b[0m \u001b[39mfrom\u001b[39;00m \u001b[39mrockpool\u001b[39;00m\u001b[39m.\u001b[39;00m\u001b[39mparameters\u001b[39;00m \u001b[39mimport\u001b[39;00m SimulationParameter\n\u001b[1;32m     23\u001b[0m \u001b[39mfrom\u001b[39;00m \u001b[39mrockpool\u001b[39;00m \u001b[39mimport\u001b[39;00m TSContinuous, TSEvent\n\u001b[0;32m---> 25\u001b[0m \u001b[39mfrom\u001b[39;00m \u001b[39m.\u001b[39;00m \u001b[39mimport\u001b[39;00m xa2_devkit_utils \u001b[39mas\u001b[39;00m hdkutils\n\u001b[1;32m     26\u001b[0m \u001b[39mfrom\u001b[39;00m \u001b[39m.\u001b[39;00m\u001b[39mxa2_devkit_utils\u001b[39;00m \u001b[39mimport\u001b[39;00m XyloA2HDK\n\u001b[1;32m     28\u001b[0m \u001b[39m# - Numpy\u001b[39;00m\n",
      "File \u001b[0;32m~/anaconda3/envs/diabetes/lib/python3.10/site-packages/rockpool/devices/xylo/syns61201/xa2_devkit_utils.py:12\u001b[0m\n\u001b[1;32m     10\u001b[0m \u001b[39mimport\u001b[39;00m \u001b[39mtime\u001b[39;00m\n\u001b[1;32m     11\u001b[0m \u001b[39mimport\u001b[39;00m \u001b[39mnumpy\u001b[39;00m \u001b[39mas\u001b[39;00m \u001b[39mnp\u001b[39;00m\n\u001b[0;32m---> 12\u001b[0m \u001b[39mfrom\u001b[39;00m \u001b[39mbitstruct\u001b[39;00m \u001b[39mimport\u001b[39;00m pack_dict, unpack_dict\n\u001b[1;32m     15\u001b[0m \u001b[39m# - Typing and useful proxy types\u001b[39;00m\n\u001b[1;32m     16\u001b[0m \u001b[39mfrom\u001b[39;00m \u001b[39mtyping\u001b[39;00m \u001b[39mimport\u001b[39;00m Any, List, Iterable, Optional, NamedTuple, Union, Tuple\n",
      "\u001b[0;31mModuleNotFoundError\u001b[0m: No module named 'bitstruct'"
     ]
    }
   ],
   "source": [
    "from rockpool import TSEvent, TSContinuous\n",
    "from rockpool.nn.modules import LIFTorch, LinearTorch\n",
    "from rockpool.nn.combinators import Sequential\n",
    "import rockpool.devices.xylo.syns61201 as x\n",
    "from rockpool.transform import quantize_methods as q\n",
    "import snntorch.spikegen as spikegen"
   ]
  },
  {
   "cell_type": "code",
   "execution_count": null,
   "metadata": {},
   "outputs": [
    {
     "name": "stdout",
     "output_type": "stream",
     "text": [
      "TorchSequential  with shape (1, 1) {\n",
      "    LinearTorch '0_LinearTorch' with shape (1, 16)\n",
      "    LIFTorch '1_LIFTorch' with shape (16, 16)\n",
      "    LinearTorch '2_LinearTorch' with shape (16, 1)\n",
      "    LIFTorch '3_LIFTorch' with shape (1, 1)\n",
      "}\n"
     ]
    }
   ],
   "source": [
    "input_size = 1\n",
    "hidden_size = 16\n",
    "output_size = 1\n",
    "dt = 1e-3\n",
    "\n",
    "net = Sequential(\n",
    "    LinearTorch((input_size, hidden_size), has_bias=False),\n",
    "    LIFTorch(hidden_size, dt=dt),\n",
    "    LinearTorch((hidden_size, output_size), has_bias=False),\n",
    "    LIFTorch(output_size, dt=dt)\n",
    ")\n",
    "print(net)"
   ]
  },
  {
   "cell_type": "code",
   "execution_count": null,
   "metadata": {},
   "outputs": [
    {
     "ename": "ModuleNotFoundError",
     "evalue": "Missing the `samna` backend. `config_from_specification` objects, and others relying on `samna` are not available.",
     "output_type": "error",
     "traceback": [
      "\u001b[0;31m---------------------------------------------------------------------------\u001b[0m",
      "\u001b[0;31mModuleNotFoundError\u001b[0m                       Traceback (most recent call last)",
      "\u001b[1;32m/home/liambury/neuromorphic-pancreas/testing.ipynb Cell 3\u001b[0m line \u001b[0;36m8\n\u001b[1;32m      <a href='vscode-notebook-cell://wsl%2Bubuntu/home/liambury/neuromorphic-pancreas/testing.ipynb#W3sdnNjb2RlLXJlbW90ZQ%3D%3D?line=4'>5</a>\u001b[0m spec\u001b[39m.\u001b[39mupdate(q\u001b[39m.\u001b[39mglobal_quantize(\u001b[39m*\u001b[39m\u001b[39m*\u001b[39mspec))\n\u001b[1;32m      <a href='vscode-notebook-cell://wsl%2Bubuntu/home/liambury/neuromorphic-pancreas/testing.ipynb#W3sdnNjb2RlLXJlbW90ZQ%3D%3D?line=6'>7</a>\u001b[0m \u001b[39m# - Use rockpool.devices.xylo.config_from_specification to convert it to a hardware configuration\u001b[39;00m\n\u001b[0;32m----> <a href='vscode-notebook-cell://wsl%2Bubuntu/home/liambury/neuromorphic-pancreas/testing.ipynb#W3sdnNjb2RlLXJlbW90ZQ%3D%3D?line=7'>8</a>\u001b[0m config, is_valid, msg \u001b[39m=\u001b[39m x\u001b[39m.\u001b[39;49mconfig_from_specification(\u001b[39m*\u001b[39;49m\u001b[39m*\u001b[39;49mspec)\n\u001b[1;32m      <a href='vscode-notebook-cell://wsl%2Bubuntu/home/liambury/neuromorphic-pancreas/testing.ipynb#W3sdnNjb2RlLXJlbW90ZQ%3D%3D?line=8'>9</a>\u001b[0m \u001b[39mif\u001b[39;00m \u001b[39mnot\u001b[39;00m is_valid:\n\u001b[1;32m     <a href='vscode-notebook-cell://wsl%2Bubuntu/home/liambury/neuromorphic-pancreas/testing.ipynb#W3sdnNjb2RlLXJlbW90ZQ%3D%3D?line=9'>10</a>\u001b[0m     \u001b[39mprint\u001b[39m(msg)\n",
      "File \u001b[0;32m~/anaconda3/envs/diabetes/lib/python3.10/site-packages/rockpool/utilities/backend_management.py:172\u001b[0m, in \u001b[0;36mmissing_backend_shim.<locals>.MissingBackendShim.__init__\u001b[0;34m(self, *args, **kwargs)\u001b[0m\n\u001b[1;32m    171\u001b[0m \u001b[39mdef\u001b[39;00m \u001b[39m__init__\u001b[39m(\u001b[39mself\u001b[39m, \u001b[39m*\u001b[39margs, \u001b[39m*\u001b[39m\u001b[39m*\u001b[39mkwargs):\n\u001b[0;32m--> 172\u001b[0m     \u001b[39mraise\u001b[39;00m \u001b[39mModuleNotFoundError\u001b[39;00m(\n\u001b[1;32m    173\u001b[0m         \u001b[39mf\u001b[39m\u001b[39m\"\u001b[39m\u001b[39mMissing the `\u001b[39m\u001b[39m{\u001b[39;00mbackend_name\u001b[39m}\u001b[39;00m\u001b[39m` backend. `\u001b[39m\u001b[39m{\u001b[39;00mclass_name\u001b[39m}\u001b[39;00m\u001b[39m` objects, and others relying on `\u001b[39m\u001b[39m{\u001b[39;00mbackend_name\u001b[39m}\u001b[39;00m\u001b[39m` are not available.\u001b[39m\u001b[39m\"\u001b[39m\n\u001b[1;32m    174\u001b[0m     )\n",
      "\u001b[0;31mModuleNotFoundError\u001b[0m: Missing the `samna` backend. `config_from_specification` objects, and others relying on `samna` are not available."
     ]
    }
   ],
   "source": [
    "# - Call the Xylo mapper on the extracted computational graph\n",
    "spec = x.mapper(net.as_graph(),  weight_dtype='float', threshold_dtype='float', dash_dtype='float')\n",
    "\n",
    "# - Quantize the specification\n",
    "spec.update(q.global_quantize(**spec))\n",
    "\n",
    "# - Use rockpool.devices.xylo.config_from_specification to convert it to a hardware configuration\n",
    "config, is_valid, msg = x.config_from_specification(**spec)\n",
    "if not is_valid:\n",
    "    print(msg)"
   ]
  },
  {
   "cell_type": "code",
   "execution_count": null,
   "metadata": {},
   "outputs": [],
   "source": [
    "# - Configure the simulator with the HW network config\n",
    "modSim = x.XyloSim.from_config(config, dt=dt)\n",
    "print(modSim)"
   ]
  },
  {
   "cell_type": "code",
   "execution_count": null,
   "metadata": {},
   "outputs": [],
   "source": [
    "# Create the native data from glucose data\n",
    "T = 1000\n",
    "spikes_in = spikegen.rate(0.1, T)"
   ]
  },
  {
   "cell_type": "code",
   "execution_count": null,
   "metadata": {},
   "outputs": [],
   "source": [
    "# - Evolve the input over the network, in simulation\n",
    "out, _, r_d = modSim(spikes_in, record=True)\n",
    "\n",
    "# - Show the internal state variables recorded\n",
    "print(r_d.keys())"
   ]
  },
  {
   "cell_type": "code",
   "execution_count": null,
   "metadata": {},
   "outputs": [],
   "source": [
    "# - Plot some internal state variables\n",
    "plt.figure()\n",
    "plt.imshow(r_d['Spikes'].T, aspect = 'auto', origin = 'lower')\n",
    "plt.title('Hidden spikes')\n",
    "plt.ylabel('Channel')\n",
    "\n",
    "plt.figure()\n",
    "TSContinuous.from_clocked(r_d['Isyn'], dt, name = 'Hidden synaptic currents').plot(stagger = 127);\n",
    "\n",
    "plt.figure()\n",
    "TSContinuous.from_clocked(r_d['Vmem'], dt, name = 'Hidden membrane potentials').plot(stagger = 127);"
   ]
  }
 ],
 "metadata": {
  "kernelspec": {
   "display_name": "diabetes",
   "language": "python",
   "name": "python3"
  },
  "language_info": {
   "codemirror_mode": {
    "name": "ipython",
    "version": 3
   },
   "file_extension": ".py",
   "mimetype": "text/x-python",
   "name": "python",
   "nbconvert_exporter": "python",
   "pygments_lexer": "ipython3",
   "version": "3.10.13"
  }
 },
 "nbformat": 4,
 "nbformat_minor": 2
}
